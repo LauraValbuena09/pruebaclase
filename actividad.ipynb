{
  "nbformat": 4,
  "nbformat_minor": 0,
  "metadata": {
    "colab": {
      "name": "NochesPython.ipynb",
      "provenance": [],
      "collapsed_sections": []
    },
    "kernelspec": {
      "name": "python3",
      "display_name": "Python 3"
    },
    "language_info": {
      "name": "python"
    }
  },
  "cells": [
    {
      "cell_type": "markdown",
      "source": [
        "un igual asignar, dos para asignar\n",
        "primera posición 0"
      ],
      "metadata": {
        "id": "wMkHJzuHl6RX"
      }
    },
    {
      "cell_type": "code",
      "execution_count": null,
      "metadata": {
        "colab": {
          "base_uri": "https://localhost:8080/"
        },
        "id": "YhugC4c-hc6H",
        "outputId": "0ee3e707-f6f3-4f7c-93c5-faa1c4f2f6c0"
      },
      "outputs": [
        {
          "output_type": "stream",
          "name": "stdout",
          "text": [
            "Nombre\n",
            "0\n",
            "1\n",
            "2\n",
            "3\n",
            "4\n",
            "5\n",
            "6\n",
            "7\n",
            "8\n",
            "9\n"
          ]
        }
      ],
      "source": [
        "if 'Juan' == 'Laura':\n",
        "  print('Hola')\n",
        "elif 'Juan' == 'Juan':\n",
        "  print('Nombre')\n",
        "else: \n",
        "  print ('Nada')\n",
        "\n",
        "### For loop finito y while loop infinito\n",
        "\n",
        "for i in range(10):\n",
        "  print(i)\n",
        "#while i < 10:\n",
        "  #print(i)"
      ]
    },
    {
      "cell_type": "markdown",
      "source": [
        "Funciones def_____(se pueden ingresar parametros):"
      ],
      "metadata": {
        "id": "mLAwUMYloboZ"
      }
    },
    {
      "cell_type": "code",
      "source": [
        "def Juan(x):\n",
        "  seq=list(range(x))#range solo enteros, positivos\n",
        "  print(seq)"
      ],
      "metadata": {
        "id": "IBtatWLsn0uP"
      },
      "execution_count": null,
      "outputs": []
    },
    {
      "cell_type": "code",
      "source": [
        "Juan(10)"
      ],
      "metadata": {
        "colab": {
          "base_uri": "https://localhost:8080/"
        },
        "id": "5PzknF9xobR0",
        "outputId": "3cb15833-dca8-47d9-d4c3-5308f77fd2ce"
      },
      "execution_count": null,
      "outputs": [
        {
          "output_type": "stream",
          "name": "stdout",
          "text": [
            "[0, 1, 2, 3, 4, 5, 6, 7, 8, 9]\n"
          ]
        }
      ]
    },
    {
      "cell_type": "markdown",
      "source": [
        "Jupyter***\n",
        "Librerias\n",
        "#codigo en R\n",
        "$$formulas$$"
      ],
      "metadata": {
        "id": "Wz-4mFjIpg1l"
      }
    },
    {
      "cell_type": "code",
      "source": [
        "#library\n",
        "import pandas as pd #preprocesamiento e incluso procesamiento\n",
        "import seaborn as sn \n",
        "import matplotlib.pyplot as plt"
      ],
      "metadata": {
        "id": "mkYTlV1Qo65F"
      },
      "execution_count": 3,
      "outputs": []
    },
    {
      "cell_type": "code",
      "source": [
        "#Subir archivo excel\n",
        "#archivo = pd.read.csv('./nombrearchivo.csv')\n",
        "#print(archivo)\n",
        "archivo = pd.read_excel('/content/Data_morfo.xlsx')\n",
        "archivo = pd.DataFrame(archivo)\n",
        "nombres = archivo.iloc[0] #iloc es para mostrar solo la fila que se pide\n",
        "Lista_nombres = list(nombres)\n",
        "#print(Lista_nombres)\n",
        "archivo.columns = Lista_nombres\n",
        "archivo.drop([0], axis = 0, inplace=True) #[] index, es una posición, axis eje\n",
        "print(archivo)"
      ],
      "metadata": {
        "colab": {
          "base_uri": "https://localhost:8080/"
        },
        "id": "0xga1XxipfpA",
        "outputId": "6d138cf8-5ce6-4459-8552-ab39c6ab05c2"
      },
      "execution_count": 5,
      "outputs": [
        {
          "output_type": "stream",
          "name": "stdout",
          "text": [
            "     Posicion CUI- Accesion Codigo Parcela N. Planta Repeticion  \\\n",
            "1           1      72600104      152010027         1          1   \n",
            "2           1      72600104      152010027         1          2   \n",
            "3           1      72600104      152010027         1          3   \n",
            "4           1      72600104      152010027         1          4   \n",
            "5           1      72600104      152010027         1          5   \n",
            "...       ...           ...            ...       ...        ...   \n",
            "1551      116      72600112      152009503         5          1   \n",
            "1552      116      72600112      152009503         5          2   \n",
            "1553      116      72600112      152009503         5          3   \n",
            "1554      116      72600112      152009503         5          4   \n",
            "1555      116      72600112      152009503         5          5   \n",
            "\n",
            "                    Fecha  \\\n",
            "1     2019-07-31 00:00:00   \n",
            "2     2019-07-31 00:00:00   \n",
            "3     2019-07-31 00:00:00   \n",
            "4     2019-07-31 00:00:00   \n",
            "5     2019-07-31 00:00:00   \n",
            "...                   ...   \n",
            "1551  2020-08-31 00:00:00   \n",
            "1552  2020-08-31 00:00:00   \n",
            "1553  2020-08-31 00:00:00   \n",
            "1554  2020-08-31 00:00:00   \n",
            "1555  2020-08-31 00:00:00   \n",
            "\n",
            "     Forma del fruto maduro: 1. Redondeado, 2. Cónico, 3. Otra  \\\n",
            "1                                                     3          \n",
            "2                                                     3          \n",
            "3                                                     3          \n",
            "4                                                     3          \n",
            "5                                                     3          \n",
            "...                                                 ...          \n",
            "1551                                                  2          \n",
            "1552                                                  1          \n",
            "1553                                                  1          \n",
            "1554                                                  1          \n",
            "1555                                                  1          \n",
            "\n",
            "     No. de frutos de forma Cónica en un racimo  \\\n",
            "1                                             0   \n",
            "2                                             0   \n",
            "3                                             0   \n",
            "4                                             0   \n",
            "5                                             0   \n",
            "...                                         ...   \n",
            "1551                                        0.2   \n",
            "1552                                        0.2   \n",
            "1553                                        0.2   \n",
            "1554                                        0.2   \n",
            "1555                                        0.2   \n",
            "\n",
            "     No. de frutos de forma Redondeada en un racimo Peso del fruto (g)  ...  \\\n",
            "1                                                 0               4.56  ...   \n",
            "2                                                 0               1.76  ...   \n",
            "3                                                 0               2.92  ...   \n",
            "4                                                 0               2.67  ...   \n",
            "5                                                 0               2.49  ...   \n",
            "...                                             ...                ...  ...   \n",
            "1551                                            0.8               0.81  ...   \n",
            "1552                                            0.8               0.73  ...   \n",
            "1553                                            0.8               0.83  ...   \n",
            "1554                                            0.8               0.89  ...   \n",
            "1555                                            0.8               1.63  ...   \n",
            "\n",
            "        a*     b*     C*     H*     pH ºBrix Peso de tara  \\\n",
            "1     36.12   33.3  49.13  42.67  3.21  11.5       2.4843   \n",
            "2     34.58  27.64  44.27  38.64  3.21  11.5       2.4843   \n",
            "3     31.97  23.31  39.56   36.1  3.21  11.5       2.4843   \n",
            "4     32.95  22.62  39.97  34.46  3.21  11.5       2.4843   \n",
            "5     39.34  28.87   48.8  36.27  3.21  11.5       2.4843   \n",
            "...     ...    ...    ...    ...   ...   ...          ...   \n",
            "1551    NaN    NaN    NaN    NaN  3.89  10.9       2.6062   \n",
            "1552    NaN    NaN    NaN    NaN  3.89  10.9       2.6062   \n",
            "1553    NaN    NaN    NaN    NaN  3.89  10.9       2.6062   \n",
            "1554    NaN    NaN    NaN    NaN  3.89  10.9       2.6062   \n",
            "1555    NaN    NaN    NaN    NaN  3.89  10.9       2.6062   \n",
            "\n",
            "     Peso de muestra humeda Peso de muestra seca + tara Materia Seca  \n",
            "1                      5.04                      3.4329       0.9486  \n",
            "2                      5.04                      3.4329       0.9486  \n",
            "3                      5.04                      3.4329       0.9486  \n",
            "4                      5.04                      3.4329       0.9486  \n",
            "5                      5.04                      3.4329       0.9486  \n",
            "...                     ...                         ...          ...  \n",
            "1551                   5.03                      3.7219       1.1157  \n",
            "1552                   5.03                      3.7219       1.1157  \n",
            "1553                   5.03                      3.7219       1.1157  \n",
            "1554                   5.03                      3.7219       1.1157  \n",
            "1555                   5.03                      3.7219       1.1157  \n",
            "\n",
            "[1555 rows x 28 columns]\n"
          ]
        }
      ]
    },
    {
      "cell_type": "code",
      "source": [
        "#eliminar Na's , elimina TODA la fila\n",
        "archivo.dropna()"
      ],
      "metadata": {
        "colab": {
          "base_uri": "https://localhost:8080/",
          "height": 939
        },
        "id": "Vyrv6mtxzQ6K",
        "outputId": "5d03d3c7-57a2-414d-aae6-27b229a413ba"
      },
      "execution_count": 6,
      "outputs": [
        {
          "output_type": "execute_result",
          "data": {
            "text/plain": [
              "     Posicion CUI- Accesion Codigo Parcela N. Planta Repeticion  \\\n",
              "1           1      72600104      152010027         1          1   \n",
              "2           1      72600104      152010027         1          2   \n",
              "3           1      72600104      152010027         1          3   \n",
              "4           1      72600104      152010027         1          4   \n",
              "5           1      72600104      152010027         1          5   \n",
              "...       ...           ...            ...       ...        ...   \n",
              "1476      108      72600109      152007007         5          1   \n",
              "1477      108      72600109      152007007         5          2   \n",
              "1478      108      72600109      152007007         5          3   \n",
              "1479      108      72600109      152007007         5          4   \n",
              "1480      108      72600109      152007007         5          5   \n",
              "\n",
              "                    Fecha  \\\n",
              "1     2019-07-31 00:00:00   \n",
              "2     2019-07-31 00:00:00   \n",
              "3     2019-07-31 00:00:00   \n",
              "4     2019-07-31 00:00:00   \n",
              "5     2019-07-31 00:00:00   \n",
              "...                   ...   \n",
              "1476  2020-02-04 00:00:00   \n",
              "1477  2020-02-04 00:00:00   \n",
              "1478  2020-02-04 00:00:00   \n",
              "1479  2020-02-04 00:00:00   \n",
              "1480  2020-02-04 00:00:00   \n",
              "\n",
              "     Forma del fruto maduro: 1. Redondeado, 2. Cónico, 3. Otra  \\\n",
              "1                                                     3          \n",
              "2                                                     3          \n",
              "3                                                     3          \n",
              "4                                                     3          \n",
              "5                                                     3          \n",
              "...                                                 ...          \n",
              "1476                                                  2          \n",
              "1477                                                  2          \n",
              "1478                                                  2          \n",
              "1479                                                  1          \n",
              "1480                                                  1          \n",
              "\n",
              "     No. de frutos de forma Cónica en un racimo  \\\n",
              "1                                             0   \n",
              "2                                             0   \n",
              "3                                             0   \n",
              "4                                             0   \n",
              "5                                             0   \n",
              "...                                         ...   \n",
              "1476                                        0.6   \n",
              "1477                                        0.6   \n",
              "1478                                        0.6   \n",
              "1479                                        0.6   \n",
              "1480                                        0.6   \n",
              "\n",
              "     No. de frutos de forma Redondeada en un racimo Peso del fruto (g)  ...  \\\n",
              "1                                                 0               4.56  ...   \n",
              "2                                                 0               1.76  ...   \n",
              "3                                                 0               2.92  ...   \n",
              "4                                                 0               2.67  ...   \n",
              "5                                                 0               2.49  ...   \n",
              "...                                             ...                ...  ...   \n",
              "1476                                            0.4             0.8899  ...   \n",
              "1477                                            0.4             0.9118  ...   \n",
              "1478                                            0.4              0.818  ...   \n",
              "1479                                            0.4             0.7055  ...   \n",
              "1480                                            0.4             0.7029  ...   \n",
              "\n",
              "        a*     b*     C*     H*     pH ºBrix Peso de tara  \\\n",
              "1     36.12   33.3  49.13  42.67  3.21  11.5       2.4843   \n",
              "2     34.58  27.64  44.27  38.64  3.21  11.5       2.4843   \n",
              "3     31.97  23.31  39.56   36.1  3.21  11.5       2.4843   \n",
              "4     32.95  22.62  39.97  34.46  3.21  11.5       2.4843   \n",
              "5     39.34  28.87   48.8  36.27  3.21  11.5       2.4843   \n",
              "...     ...    ...    ...    ...   ...   ...          ...   \n",
              "1476   13.5   3.46  13.94  14.39  3.28    11       2.6532   \n",
              "1477  14.14   3.33  14.52  13.26  3.28    11       2.6532   \n",
              "1478  18.14   6.01  19.11  18.32  3.28    11       2.6532   \n",
              "1479  10.69   3.36  11.21  17.46  3.28    11       2.6532   \n",
              "1480  17.24   5.79  18.19  18.55  3.28    11       2.6532   \n",
              "\n",
              "     Peso de muestra humeda Peso de muestra seca + tara Materia Seca  \n",
              "1                      5.04                      3.4329       0.9486  \n",
              "2                      5.04                      3.4329       0.9486  \n",
              "3                      5.04                      3.4329       0.9486  \n",
              "4                      5.04                      3.4329       0.9486  \n",
              "5                      5.04                      3.4329       0.9486  \n",
              "...                     ...                         ...          ...  \n",
              "1476                 5.0236                      3.5337       0.8805  \n",
              "1477                 5.0236                      3.5337       0.8805  \n",
              "1478                 5.0236                      3.5337       0.8805  \n",
              "1479                 5.0236                      3.5337       0.8805  \n",
              "1480                 5.0236                      3.5337       0.8805  \n",
              "\n",
              "[649 rows x 28 columns]"
            ],
            "text/html": [
              "\n",
              "  <div id=\"df-741ad18d-b581-4351-bf8c-dd6c31f7792a\">\n",
              "    <div class=\"colab-df-container\">\n",
              "      <div>\n",
              "<style scoped>\n",
              "    .dataframe tbody tr th:only-of-type {\n",
              "        vertical-align: middle;\n",
              "    }\n",
              "\n",
              "    .dataframe tbody tr th {\n",
              "        vertical-align: top;\n",
              "    }\n",
              "\n",
              "    .dataframe thead th {\n",
              "        text-align: right;\n",
              "    }\n",
              "</style>\n",
              "<table border=\"1\" class=\"dataframe\">\n",
              "  <thead>\n",
              "    <tr style=\"text-align: right;\">\n",
              "      <th></th>\n",
              "      <th>Posicion</th>\n",
              "      <th>CUI- Accesion</th>\n",
              "      <th>Codigo Parcela</th>\n",
              "      <th>N. Planta</th>\n",
              "      <th>Repeticion</th>\n",
              "      <th>Fecha</th>\n",
              "      <th>Forma del fruto maduro: 1. Redondeado, 2. Cónico, 3. Otra</th>\n",
              "      <th>No. de frutos de forma Cónica en un racimo</th>\n",
              "      <th>No. de frutos de forma Redondeada en un racimo</th>\n",
              "      <th>Peso del fruto (g)</th>\n",
              "      <th>...</th>\n",
              "      <th>a*</th>\n",
              "      <th>b*</th>\n",
              "      <th>C*</th>\n",
              "      <th>H*</th>\n",
              "      <th>pH</th>\n",
              "      <th>ºBrix</th>\n",
              "      <th>Peso de tara</th>\n",
              "      <th>Peso de muestra humeda</th>\n",
              "      <th>Peso de muestra seca + tara</th>\n",
              "      <th>Materia Seca</th>\n",
              "    </tr>\n",
              "  </thead>\n",
              "  <tbody>\n",
              "    <tr>\n",
              "      <th>1</th>\n",
              "      <td>1</td>\n",
              "      <td>72600104</td>\n",
              "      <td>152010027</td>\n",
              "      <td>1</td>\n",
              "      <td>1</td>\n",
              "      <td>2019-07-31 00:00:00</td>\n",
              "      <td>3</td>\n",
              "      <td>0</td>\n",
              "      <td>0</td>\n",
              "      <td>4.56</td>\n",
              "      <td>...</td>\n",
              "      <td>36.12</td>\n",
              "      <td>33.3</td>\n",
              "      <td>49.13</td>\n",
              "      <td>42.67</td>\n",
              "      <td>3.21</td>\n",
              "      <td>11.5</td>\n",
              "      <td>2.4843</td>\n",
              "      <td>5.04</td>\n",
              "      <td>3.4329</td>\n",
              "      <td>0.9486</td>\n",
              "    </tr>\n",
              "    <tr>\n",
              "      <th>2</th>\n",
              "      <td>1</td>\n",
              "      <td>72600104</td>\n",
              "      <td>152010027</td>\n",
              "      <td>1</td>\n",
              "      <td>2</td>\n",
              "      <td>2019-07-31 00:00:00</td>\n",
              "      <td>3</td>\n",
              "      <td>0</td>\n",
              "      <td>0</td>\n",
              "      <td>1.76</td>\n",
              "      <td>...</td>\n",
              "      <td>34.58</td>\n",
              "      <td>27.64</td>\n",
              "      <td>44.27</td>\n",
              "      <td>38.64</td>\n",
              "      <td>3.21</td>\n",
              "      <td>11.5</td>\n",
              "      <td>2.4843</td>\n",
              "      <td>5.04</td>\n",
              "      <td>3.4329</td>\n",
              "      <td>0.9486</td>\n",
              "    </tr>\n",
              "    <tr>\n",
              "      <th>3</th>\n",
              "      <td>1</td>\n",
              "      <td>72600104</td>\n",
              "      <td>152010027</td>\n",
              "      <td>1</td>\n",
              "      <td>3</td>\n",
              "      <td>2019-07-31 00:00:00</td>\n",
              "      <td>3</td>\n",
              "      <td>0</td>\n",
              "      <td>0</td>\n",
              "      <td>2.92</td>\n",
              "      <td>...</td>\n",
              "      <td>31.97</td>\n",
              "      <td>23.31</td>\n",
              "      <td>39.56</td>\n",
              "      <td>36.1</td>\n",
              "      <td>3.21</td>\n",
              "      <td>11.5</td>\n",
              "      <td>2.4843</td>\n",
              "      <td>5.04</td>\n",
              "      <td>3.4329</td>\n",
              "      <td>0.9486</td>\n",
              "    </tr>\n",
              "    <tr>\n",
              "      <th>4</th>\n",
              "      <td>1</td>\n",
              "      <td>72600104</td>\n",
              "      <td>152010027</td>\n",
              "      <td>1</td>\n",
              "      <td>4</td>\n",
              "      <td>2019-07-31 00:00:00</td>\n",
              "      <td>3</td>\n",
              "      <td>0</td>\n",
              "      <td>0</td>\n",
              "      <td>2.67</td>\n",
              "      <td>...</td>\n",
              "      <td>32.95</td>\n",
              "      <td>22.62</td>\n",
              "      <td>39.97</td>\n",
              "      <td>34.46</td>\n",
              "      <td>3.21</td>\n",
              "      <td>11.5</td>\n",
              "      <td>2.4843</td>\n",
              "      <td>5.04</td>\n",
              "      <td>3.4329</td>\n",
              "      <td>0.9486</td>\n",
              "    </tr>\n",
              "    <tr>\n",
              "      <th>5</th>\n",
              "      <td>1</td>\n",
              "      <td>72600104</td>\n",
              "      <td>152010027</td>\n",
              "      <td>1</td>\n",
              "      <td>5</td>\n",
              "      <td>2019-07-31 00:00:00</td>\n",
              "      <td>3</td>\n",
              "      <td>0</td>\n",
              "      <td>0</td>\n",
              "      <td>2.49</td>\n",
              "      <td>...</td>\n",
              "      <td>39.34</td>\n",
              "      <td>28.87</td>\n",
              "      <td>48.8</td>\n",
              "      <td>36.27</td>\n",
              "      <td>3.21</td>\n",
              "      <td>11.5</td>\n",
              "      <td>2.4843</td>\n",
              "      <td>5.04</td>\n",
              "      <td>3.4329</td>\n",
              "      <td>0.9486</td>\n",
              "    </tr>\n",
              "    <tr>\n",
              "      <th>...</th>\n",
              "      <td>...</td>\n",
              "      <td>...</td>\n",
              "      <td>...</td>\n",
              "      <td>...</td>\n",
              "      <td>...</td>\n",
              "      <td>...</td>\n",
              "      <td>...</td>\n",
              "      <td>...</td>\n",
              "      <td>...</td>\n",
              "      <td>...</td>\n",
              "      <td>...</td>\n",
              "      <td>...</td>\n",
              "      <td>...</td>\n",
              "      <td>...</td>\n",
              "      <td>...</td>\n",
              "      <td>...</td>\n",
              "      <td>...</td>\n",
              "      <td>...</td>\n",
              "      <td>...</td>\n",
              "      <td>...</td>\n",
              "      <td>...</td>\n",
              "    </tr>\n",
              "    <tr>\n",
              "      <th>1476</th>\n",
              "      <td>108</td>\n",
              "      <td>72600109</td>\n",
              "      <td>152007007</td>\n",
              "      <td>5</td>\n",
              "      <td>1</td>\n",
              "      <td>2020-02-04 00:00:00</td>\n",
              "      <td>2</td>\n",
              "      <td>0.6</td>\n",
              "      <td>0.4</td>\n",
              "      <td>0.8899</td>\n",
              "      <td>...</td>\n",
              "      <td>13.5</td>\n",
              "      <td>3.46</td>\n",
              "      <td>13.94</td>\n",
              "      <td>14.39</td>\n",
              "      <td>3.28</td>\n",
              "      <td>11</td>\n",
              "      <td>2.6532</td>\n",
              "      <td>5.0236</td>\n",
              "      <td>3.5337</td>\n",
              "      <td>0.8805</td>\n",
              "    </tr>\n",
              "    <tr>\n",
              "      <th>1477</th>\n",
              "      <td>108</td>\n",
              "      <td>72600109</td>\n",
              "      <td>152007007</td>\n",
              "      <td>5</td>\n",
              "      <td>2</td>\n",
              "      <td>2020-02-04 00:00:00</td>\n",
              "      <td>2</td>\n",
              "      <td>0.6</td>\n",
              "      <td>0.4</td>\n",
              "      <td>0.9118</td>\n",
              "      <td>...</td>\n",
              "      <td>14.14</td>\n",
              "      <td>3.33</td>\n",
              "      <td>14.52</td>\n",
              "      <td>13.26</td>\n",
              "      <td>3.28</td>\n",
              "      <td>11</td>\n",
              "      <td>2.6532</td>\n",
              "      <td>5.0236</td>\n",
              "      <td>3.5337</td>\n",
              "      <td>0.8805</td>\n",
              "    </tr>\n",
              "    <tr>\n",
              "      <th>1478</th>\n",
              "      <td>108</td>\n",
              "      <td>72600109</td>\n",
              "      <td>152007007</td>\n",
              "      <td>5</td>\n",
              "      <td>3</td>\n",
              "      <td>2020-02-04 00:00:00</td>\n",
              "      <td>2</td>\n",
              "      <td>0.6</td>\n",
              "      <td>0.4</td>\n",
              "      <td>0.818</td>\n",
              "      <td>...</td>\n",
              "      <td>18.14</td>\n",
              "      <td>6.01</td>\n",
              "      <td>19.11</td>\n",
              "      <td>18.32</td>\n",
              "      <td>3.28</td>\n",
              "      <td>11</td>\n",
              "      <td>2.6532</td>\n",
              "      <td>5.0236</td>\n",
              "      <td>3.5337</td>\n",
              "      <td>0.8805</td>\n",
              "    </tr>\n",
              "    <tr>\n",
              "      <th>1479</th>\n",
              "      <td>108</td>\n",
              "      <td>72600109</td>\n",
              "      <td>152007007</td>\n",
              "      <td>5</td>\n",
              "      <td>4</td>\n",
              "      <td>2020-02-04 00:00:00</td>\n",
              "      <td>1</td>\n",
              "      <td>0.6</td>\n",
              "      <td>0.4</td>\n",
              "      <td>0.7055</td>\n",
              "      <td>...</td>\n",
              "      <td>10.69</td>\n",
              "      <td>3.36</td>\n",
              "      <td>11.21</td>\n",
              "      <td>17.46</td>\n",
              "      <td>3.28</td>\n",
              "      <td>11</td>\n",
              "      <td>2.6532</td>\n",
              "      <td>5.0236</td>\n",
              "      <td>3.5337</td>\n",
              "      <td>0.8805</td>\n",
              "    </tr>\n",
              "    <tr>\n",
              "      <th>1480</th>\n",
              "      <td>108</td>\n",
              "      <td>72600109</td>\n",
              "      <td>152007007</td>\n",
              "      <td>5</td>\n",
              "      <td>5</td>\n",
              "      <td>2020-02-04 00:00:00</td>\n",
              "      <td>1</td>\n",
              "      <td>0.6</td>\n",
              "      <td>0.4</td>\n",
              "      <td>0.7029</td>\n",
              "      <td>...</td>\n",
              "      <td>17.24</td>\n",
              "      <td>5.79</td>\n",
              "      <td>18.19</td>\n",
              "      <td>18.55</td>\n",
              "      <td>3.28</td>\n",
              "      <td>11</td>\n",
              "      <td>2.6532</td>\n",
              "      <td>5.0236</td>\n",
              "      <td>3.5337</td>\n",
              "      <td>0.8805</td>\n",
              "    </tr>\n",
              "  </tbody>\n",
              "</table>\n",
              "<p>649 rows × 28 columns</p>\n",
              "</div>\n",
              "      <button class=\"colab-df-convert\" onclick=\"convertToInteractive('df-741ad18d-b581-4351-bf8c-dd6c31f7792a')\"\n",
              "              title=\"Convert this dataframe to an interactive table.\"\n",
              "              style=\"display:none;\">\n",
              "        \n",
              "  <svg xmlns=\"http://www.w3.org/2000/svg\" height=\"24px\"viewBox=\"0 0 24 24\"\n",
              "       width=\"24px\">\n",
              "    <path d=\"M0 0h24v24H0V0z\" fill=\"none\"/>\n",
              "    <path d=\"M18.56 5.44l.94 2.06.94-2.06 2.06-.94-2.06-.94-.94-2.06-.94 2.06-2.06.94zm-11 1L8.5 8.5l.94-2.06 2.06-.94-2.06-.94L8.5 2.5l-.94 2.06-2.06.94zm10 10l.94 2.06.94-2.06 2.06-.94-2.06-.94-.94-2.06-.94 2.06-2.06.94z\"/><path d=\"M17.41 7.96l-1.37-1.37c-.4-.4-.92-.59-1.43-.59-.52 0-1.04.2-1.43.59L10.3 9.45l-7.72 7.72c-.78.78-.78 2.05 0 2.83L4 21.41c.39.39.9.59 1.41.59.51 0 1.02-.2 1.41-.59l7.78-7.78 2.81-2.81c.8-.78.8-2.07 0-2.86zM5.41 20L4 18.59l7.72-7.72 1.47 1.35L5.41 20z\"/>\n",
              "  </svg>\n",
              "      </button>\n",
              "      \n",
              "  <style>\n",
              "    .colab-df-container {\n",
              "      display:flex;\n",
              "      flex-wrap:wrap;\n",
              "      gap: 12px;\n",
              "    }\n",
              "\n",
              "    .colab-df-convert {\n",
              "      background-color: #E8F0FE;\n",
              "      border: none;\n",
              "      border-radius: 50%;\n",
              "      cursor: pointer;\n",
              "      display: none;\n",
              "      fill: #1967D2;\n",
              "      height: 32px;\n",
              "      padding: 0 0 0 0;\n",
              "      width: 32px;\n",
              "    }\n",
              "\n",
              "    .colab-df-convert:hover {\n",
              "      background-color: #E2EBFA;\n",
              "      box-shadow: 0px 1px 2px rgba(60, 64, 67, 0.3), 0px 1px 3px 1px rgba(60, 64, 67, 0.15);\n",
              "      fill: #174EA6;\n",
              "    }\n",
              "\n",
              "    [theme=dark] .colab-df-convert {\n",
              "      background-color: #3B4455;\n",
              "      fill: #D2E3FC;\n",
              "    }\n",
              "\n",
              "    [theme=dark] .colab-df-convert:hover {\n",
              "      background-color: #434B5C;\n",
              "      box-shadow: 0px 1px 3px 1px rgba(0, 0, 0, 0.15);\n",
              "      filter: drop-shadow(0px 1px 2px rgba(0, 0, 0, 0.3));\n",
              "      fill: #FFFFFF;\n",
              "    }\n",
              "  </style>\n",
              "\n",
              "      <script>\n",
              "        const buttonEl =\n",
              "          document.querySelector('#df-741ad18d-b581-4351-bf8c-dd6c31f7792a button.colab-df-convert');\n",
              "        buttonEl.style.display =\n",
              "          google.colab.kernel.accessAllowed ? 'block' : 'none';\n",
              "\n",
              "        async function convertToInteractive(key) {\n",
              "          const element = document.querySelector('#df-741ad18d-b581-4351-bf8c-dd6c31f7792a');\n",
              "          const dataTable =\n",
              "            await google.colab.kernel.invokeFunction('convertToInteractive',\n",
              "                                                     [key], {});\n",
              "          if (!dataTable) return;\n",
              "\n",
              "          const docLinkHtml = 'Like what you see? Visit the ' +\n",
              "            '<a target=\"_blank\" href=https://colab.research.google.com/notebooks/data_table.ipynb>data table notebook</a>'\n",
              "            + ' to learn more about interactive tables.';\n",
              "          element.innerHTML = '';\n",
              "          dataTable['output_type'] = 'display_data';\n",
              "          await google.colab.output.renderOutput(dataTable, element);\n",
              "          const docLink = document.createElement('div');\n",
              "          docLink.innerHTML = docLinkHtml;\n",
              "          element.appendChild(docLink);\n",
              "        }\n",
              "      </script>\n",
              "    </div>\n",
              "  </div>\n",
              "  "
            ]
          },
          "metadata": {},
          "execution_count": 6
        }
      ]
    },
    {
      "cell_type": "code",
      "source": [
        "#boxplot \n",
        "sn.boxplot(archivo['Repeticion'], archivo['Peso del fruto (g)'])"
      ],
      "metadata": {
        "colab": {
          "base_uri": "https://localhost:8080/",
          "height": 351
        },
        "id": "iFIq3YvH5aKL",
        "outputId": "d59ba85e-4df7-45ea-e4ab-d2e2f62c2d9b"
      },
      "execution_count": 7,
      "outputs": [
        {
          "output_type": "stream",
          "name": "stderr",
          "text": [
            "/usr/local/lib/python3.7/dist-packages/seaborn/_decorators.py:43: FutureWarning: Pass the following variables as keyword args: x, y. From version 0.12, the only valid positional argument will be `data`, and passing other arguments without an explicit keyword will result in an error or misinterpretation.\n",
            "  FutureWarning\n"
          ]
        },
        {
          "output_type": "execute_result",
          "data": {
            "text/plain": [
              "<matplotlib.axes._subplots.AxesSubplot at 0x7f11655f1e50>"
            ]
          },
          "metadata": {},
          "execution_count": 7
        },
        {
          "output_type": "display_data",
          "data": {
            "text/plain": [
              "<Figure size 432x288 with 1 Axes>"
            ],
            "image/png": "[encoded data removed]"
          },
          "metadata": {
            "needs_background": "light"
          }
        }
      ]
    },
    {
      "cell_type": "code",
      "source": [
        "sn.boxplot(archivo['N. Planta'], archivo['Peso del fruto (g)'])"
      ],
      "metadata": {
        "colab": {
          "base_uri": "https://localhost:8080/",
          "height": 351
        },
        "id": "0-CiuovJ8Pfr",
        "outputId": "84618bf4-f5c8-49aa-c53c-c1215021f626"
      },
      "execution_count": 8,
      "outputs": [
        {
          "output_type": "stream",
          "name": "stderr",
          "text": [
            "/usr/local/lib/python3.7/dist-packages/seaborn/_decorators.py:43: FutureWarning: Pass the following variables as keyword args: x, y. From version 0.12, the only valid positional argument will be `data`, and passing other arguments without an explicit keyword will result in an error or misinterpretation.\n",
            "  FutureWarning\n"
          ]
        },
        {
          "output_type": "execute_result",
          "data": {
            "text/plain": [
              "<matplotlib.axes._subplots.AxesSubplot at 0x7f11656cd350>"
            ]
          },
          "metadata": {},
          "execution_count": 8
        },
        {
          "output_type": "display_data",
          "data": {
            "text/plain": [
              "<Figure size 432x288 with 1 Axes>"
            ],
            "image/png": "[encoded data removed]"
          },
          "metadata": {
            "needs_background": "light"
          }
        }
      ]
    },
    {
      "cell_type": "markdown",
      "source": [
        "###EJERCICIO"
      ],
      "metadata": {
        "id": "EnXk9-P5pf5e"
      }
    },
    {
      "cell_type": "code",
      "source": [
        "#graficar un diagrama de dispersión agrupado diametro polar y ecuatorial por numero de plantas\n",
        "\n",
        "sn.scatterplot(x=\"Diametro polar (mm)\", \n",
        "               y=\"Diametro ecuatorial (mm)\",\n",
        "               hue=\"N. Planta\",\n",
        "               data=archivo)\n"
      ],
      "metadata": {
        "colab": {
          "base_uri": "https://localhost:8080/",
          "height": 297
        },
        "id": "kkvjF6Ro8-Uy",
        "outputId": "cc74202a-7642-42b3-bba6-c2a2a8f733a8"
      },
      "execution_count": 9,
      "outputs": [
        {
          "output_type": "execute_result",
          "data": {
            "text/plain": [
              "<matplotlib.axes._subplots.AxesSubplot at 0x7f116551d750>"
            ]
          },
          "metadata": {},
          "execution_count": 9
        },
        {
          "output_type": "display_data",
          "data": {
            "text/plain": [
              "<Figure size 432x288 with 1 Axes>"
            ],
            "image/png": "[encoded data removed]"
          },
          "metadata": {
            "needs_background": "light"
          }
        }
      ]
    },
    {
      "cell_type": "code",
      "source": [
        "sn.scatterplot(x=\"pH\", \n",
        "               y=\"Peso del fruto (g)\",\n",
        "               hue=\"N. Planta\",\n",
        "               data=archivo)"
      ],
      "metadata": {
        "id": "04It1Cv6-H_m",
        "colab": {
          "base_uri": "https://localhost:8080/",
          "height": 296
        },
        "outputId": "49a93abe-b156-4422-cab9-c104de151657"
      },
      "execution_count": 14,
      "outputs": [
        {
          "output_type": "execute_result",
          "data": {
            "text/plain": [
              "<matplotlib.axes._subplots.AxesSubplot at 0x7f1163603290>"
            ]
          },
          "metadata": {},
          "execution_count": 14
        },
        {
          "output_type": "display_data",
          "data": {
            "text/plain": [
              "<Figure size 432x288 with 1 Axes>"
            ],
            "image/png": "[encoded data removed]"
          },
          "metadata": {
            "needs_background": "light"
          }
        }
      ]
    },
    {
      "cell_type": "code",
      "source": [
        "sn.scatterplot(x=\"pH\", \n",
        "               y=\"Materia Seca\",\n",
        "               hue=\"N. Planta\",\n",
        "               data=archivo)"
      ],
      "metadata": {
        "colab": {
          "base_uri": "https://localhost:8080/",
          "height": 296
        },
        "id": "Epo7gPthaFD_",
        "outputId": "6e5f8859-a6f2-483e-8e65-0c21eb321fc3"
      },
      "execution_count": 12,
      "outputs": [
        {
          "output_type": "execute_result",
          "data": {
            "text/plain": [
              "<matplotlib.axes._subplots.AxesSubplot at 0x7f116371a2d0>"
            ]
          },
          "metadata": {},
          "execution_count": 12
        },
        {
          "output_type": "display_data",
          "data": {
            "text/plain": [
              "<Figure size 432x288 with 1 Axes>"
            ],
            "image/png": "[encoded data removed]"
          },
          "metadata": {
            "needs_background": "light"
          }
        }
      ]
    },
    {
      "cell_type": "markdown",
      "source": [
        "#GitHub \n",
        "Repositorio, publicar código y permitir que otros lo modifiquen\n",
        "\n",
        "GitHub Desktop\n"
      ],
      "metadata": {
        "id": "VY4izhM4oUcD"
      }
    },
    {
      "cell_type": "code",
      "source": [
        ""
      ],
      "metadata": {
        "id": "ZVZkdtkAoFTz"
      },
      "execution_count": null,
      "outputs": []
    }
  ]
}